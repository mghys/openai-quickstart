{
 "cells": [
  {
   "cell_type": "markdown",
   "id": "b4b6a552-b7f0-433d-9a70-61c4fcc52d5d",
   "metadata": {},
   "source": [
    "# 快速入门 GPT-4 Vison\n",
    "\n",
    "从历史上看，语言模型系统仅接受**文本**作为输入。但是单一的输入形式，限制了大模型的应用落地范围。\n",
    "\n",
    "随着技术发展，OpenAI 开发的 GPT-4 Turbo with Vision（简称 GPT-4V）允许模型接收**图像**作为输入，并回答关于它们的问题。\n",
    "\n",
    "📢注意，目前在 Assistants API 中使用 GPT-4 时还不支持图像输入。"
   ]
  },
  {
   "cell_type": "markdown",
   "id": "3a701c56-0a2a-4dea-b458-234150b84ff2",
   "metadata": {},
   "source": [
    "## 使用 GPT-4V 识别线上图像（URL）\n",
    "\n",
    "![image_sample](https://upload.wikimedia.org/wikipedia/commons/thumb/d/dd/Gfp-wisconsin-madison-the-nature-boardwalk.jpg/2560px-Gfp-wisconsin-madison-the-nature-boardwalk.jpg)"
   ]
  },
  {
   "cell_type": "code",
   "execution_count": 5,
   "id": "bf8689b2-94f2-4a35-a332-9ffed0a56aca",
   "metadata": {},
   "outputs": [
    {
     "name": "stdout",
     "output_type": "stream",
     "text": [
      "Choice(finish_reason='stop', index=0, logprobs=None, message=ChatCompletionMessage(content='这幅图展示的是一个美丽的户外风景，背景是蓝天白云和一些轻微的云彩。图中有一条木制的栈道穿梭在一片繁茂的绿色草地中，引导观看者的视线深入到远处的景色。草地上生长着高高的草和一些灌木丛，这为画面增添了丰富的绿色和自然的生机。整个场景给人一种宁静和平和的感觉，是很典型的自然保护区或乡村公园的风景。这样的环境适合散步、放松心情，并吸引自然爱好者和摄影师。', role='assistant', function_call=None, tool_calls=None))\n"
     ]
    }
   ],
   "source": [
    "from openai import OpenAI\n",
    "\n",
    "client = OpenAI(api_key=\"sk-MLOkqReWfMXcorYNEfA4321bA32a4c6e87FbA00839533a0a\",base_url=\"https://api.xiaoai.plus/v1\")\n",
    "\n",
    "response = client.chat.completions.create(\n",
    "  model=\"gpt-4-turbo\",\n",
    "  messages=[\n",
    "    {\n",
    "      \"role\": \"user\",\n",
    "      \"content\": [\n",
    "        {\"type\": \"text\", \"text\": \"介绍下这幅图?\"},\n",
    "        {\n",
    "          \"type\": \"image_url\",\n",
    "          \"image_url\": {\n",
    "            \"url\": \"https://upload.wikimedia.org/wikipedia/commons/thumb/d/dd/Gfp-wisconsin-madison-the-nature-boardwalk.jpg/2560px-Gfp-wisconsin-madison-the-nature-boardwalk.jpg\",\n",
    "          },\n",
    "        },\n",
    "      ],\n",
    "    }\n",
    "  ],\n",
    "  max_tokens=300,\n",
    ")\n",
    "\n",
    "print(response.choices[0])"
   ]
  },
  {
   "cell_type": "code",
   "execution_count": 6,
   "id": "9bcc9026-7485-428f-8269-ea9ae41405cb",
   "metadata": {},
   "outputs": [
    {
     "data": {
      "text/plain": [
       "'这幅图展示的是一个美丽的户外风景，背景是蓝天白云和一些轻微的云彩。图中有一条木制的栈道穿梭在一片繁茂的绿色草地中，引导观看者的视线深入到远处的景色。草地上生长着高高的草和一些灌木丛，这为画面增添了丰富的绿色和自然的生机。整个场景给人一种宁静和平和的感觉，是很典型的自然保护区或乡村公园的风景。这样的环境适合散步、放松心情，并吸引自然爱好者和摄影师。'"
      ]
     },
     "execution_count": 6,
     "metadata": {},
     "output_type": "execute_result"
    }
   ],
   "source": [
    "response.choices[0].message.content"
   ]
  },
  {
   "cell_type": "markdown",
   "id": "7fb50a14-fa14-4c63-9f81-b98b0f65d9d9",
   "metadata": {},
   "source": [
    "### 封装成一个函数 query_image_description"
   ]
  },
  {
   "cell_type": "code",
   "execution_count": 7,
   "id": "c1ca5428-c7e1-4d7e-91f1-d4a05e95ac51",
   "metadata": {},
   "outputs": [],
   "source": [
    "def query_image_description(url, prompt=\"介绍下这幅图?\"):\n",
    "    client = OpenAI(api_key=\"sk-MLOkqReWfMXcorYNEfA4321bA32a4c6e87FbA00839533a0a\",base_url=\"https://api.xiaoai.plus/v1\")  # 初始化 OpenAI 客户端\n",
    "    \n",
    "    # 发送请求给 OpenAI 的聊天模型\n",
    "    response = client.chat.completions.create(\n",
    "        model=\"gpt-4-turbo\",  # 指定使用的模型\n",
    "        messages=[\n",
    "            {\n",
    "                \"role\": \"user\",\n",
    "                \"content\": [\n",
    "                    {\"type\": \"text\", \"text\": prompt},\n",
    "                    {\"type\": \"image_url\", \"image_url\": {\"url\": url}},\n",
    "                ],\n",
    "            }\n",
    "        ],\n",
    "        max_tokens=300,\n",
    "    )\n",
    "    \n",
    "    # 返回模型的响应\n",
    "    return response.choices[0].message.content\n"
   ]
  },
  {
   "cell_type": "markdown",
   "id": "a0d0aceb-7cc5-4da1-b6db-e47716ba145a",
   "metadata": {},
   "source": [
    "### 调用函数测试\n",
    "\n",
    "![meme_0](https://p6.itc.cn/q_70/images03/20200602/0c267a0d3d814c9783659eb956969ba1.jpeg)"
   ]
  },
  {
   "cell_type": "code",
   "execution_count": 8,
   "id": "454abb5c-49d3-42e6-867e-f44e25af5e0e",
   "metadata": {},
   "outputs": [
    {
     "name": "stdout",
     "output_type": "stream",
     "text": [
      "这幅图主要呈现了两只狗的幽默对比。左侧的狗被过度P图成一个拥有巨大肌肉的人形，代表了“16岁的我，工作后的我”。右侧则是一只普通的柴犬，被描绘成憨态可掬的样子，下方配文表达了对工作或日常生活带来忧虑和疲惫的感受，与左侧肌肉狗的自信形象形成鲜明对比。\n",
      "\n",
      "整体而言，这是一种常见的搞笑风格的对比图，通过夸张和反差来产生幽默效果，表达了很多人对年轻时期与成年后现实之间差距的感慨。\n"
     ]
    }
   ],
   "source": [
    "image_url = \"https://p6.itc.cn/q_70/images03/20200602/0c267a0d3d814c9783659eb956969ba1.jpeg\"\n",
    "content = query_image_description(image_url)\n",
    "print(content)"
   ]
  },
  {
   "cell_type": "code",
   "execution_count": null,
   "id": "2471306a-84e2-4793-b065-0741fbe57262",
   "metadata": {},
   "outputs": [],
   "source": []
  },
  {
   "cell_type": "code",
   "execution_count": null,
   "id": "af79850f-83b5-49c4-a3f3-f2c01a28f458",
   "metadata": {},
   "outputs": [],
   "source": []
  },
  {
   "cell_type": "markdown",
   "id": "63ae05bd-872c-4638-8259-df4f420aaa1d",
   "metadata": {},
   "source": [
    "### 使用 GPT-4V 识别本地图像文件（Base64编码）\n"
   ]
  },
  {
   "cell_type": "code",
   "execution_count": 14,
   "id": "1e83da68-d387-46da-8236-78fc607d1fab",
   "metadata": {},
   "outputs": [],
   "source": [
    "from openai import OpenAI\n",
    "import base64\n",
    "import requests\n",
    "import json\n",
    "\n",
    "client = OpenAI(api_key=\"sk-MLOkqReWfMXcorYNEfA4321bA32a4c6e87FbA00839533a0a\",base_url=\"https://api.xiaoai.plus/v1\")  # 初始化 OpenAI 客户端\n",
    "\n",
    "def query_base64_image_description(image_path, prompt=\"解释下图里的内容？\", max_tokens=1000):\n",
    "\n",
    "    # 实现 Base64 编码\n",
    "    def encode_image(path):\n",
    "        with open(path, \"rb\") as image_file:\n",
    "            return base64.b64encode(image_file.read()).decode('utf-8')\n",
    "\n",
    "    # 获取图像的 Base64 编码字符串\n",
    "    base64_image = encode_image(image_path)\n",
    "\n",
    "    # 构造请求的 HTTP Header\n",
    "    headers = {\n",
    "        \"Content-Type\": \"application/json\",\n",
    "        \"Authorization\": f\"Bearer {client.api_key}\"\n",
    "    }\n",
    "\n",
    "    # 构造请求的负载\n",
    "    payload = {\n",
    "        \"model\": \"gpt-4-turbo\",\n",
    "        \"messages\": [\n",
    "            {\n",
    "                \"role\": \"user\",\n",
    "                \"content\": [\n",
    "                    {\"type\": \"text\", \"text\": prompt},\n",
    "                    {\"type\": \"image_url\", \"image_url\": {\"url\": f\"data:image/jpeg;base64,{base64_image}\"}}\n",
    "                ]\n",
    "            }\n",
    "        ],\n",
    "        \"max_tokens\": max_tokens\n",
    "    }\n",
    "\n",
    "    # 发送 HTTP 请求\n",
    "    response = requests.post(\"https://api.xiaoai.plus/v1/chat/completions\", headers=headers, json=payload)\n",
    "\n",
    "    # 检查响应并提取所需的 content 字段\n",
    "    if response.status_code == 200:\n",
    "        response_data = response.json()\n",
    "        content = response_data['choices'][0]['message']['content']\n",
    "        return content\n",
    "    else:\n",
    "        return f\"Error: {response.status_code}, {response.text}\""
   ]
  },
  {
   "cell_type": "markdown",
   "id": "89dd0f99-8086-473f-80a4-497e6dd07c17",
   "metadata": {},
   "source": [
    "#### 使用 Assistants API生成的 GDP 40年对比曲线图\n",
    "\n",
    "![gdp_data](./images/gdp_1980_2020.jpg)"
   ]
  },
  {
   "cell_type": "code",
   "execution_count": 15,
   "id": "3c0e9063-e8d9-4bc1-ae60-ad0aa5bee32b",
   "metadata": {},
   "outputs": [
    {
     "name": "stdout",
     "output_type": "stream",
     "text": [
      "这张图显示了1980年到2020年美国、中国、日本和德国的国内生产总值（GDP）的比较。图中的y轴代表国内生产总值（以万亿美元为单位），x轴代表年份。\n",
      "\n",
      "从图中可以看出以下几点：\n",
      "- 美国的GDP（蓝线）在这四个国家中始终处于最高位置，并且呈现稳定增长的趋势。\n",
      "- 中国的GDP（红线）从1990年代初期开始显著增长，尤其从2000年以后增长迅速，到2020年接近美国的GDP。\n",
      "- 日本的GDP（紫线）增长相对平稳，但在1990年代末期到2000年代初期有所下降，此后基本保持稳定。\n",
      "- 德国的GDP（绿线）增长较为缓慢且稳定，没有太大波动。\n",
      "\n",
      "这张图有效地展示了过去四十年这四个经济大国的经济增长轨迹和相对表现。\n"
     ]
    }
   ],
   "source": [
    "content = query_base64_image_description(\"./images/gdp_1980_2020.jpg\")\n",
    "print(content)"
   ]
  },
  {
   "cell_type": "markdown",
   "id": "6d18b227-32a6-4450-86bd-c99ad5c533b9",
   "metadata": {},
   "source": [
    "#### 使用 GPT-4V 识别手写体笔记\n",
    "\n",
    "![](./images/handwriting_0.jpg)"
   ]
  },
  {
   "cell_type": "code",
   "execution_count": 16,
   "id": "4193fa11-5edd-404c-9472-0cb8cc6799fc",
   "metadata": {},
   "outputs": [
    {
     "name": "stdout",
     "output_type": "stream",
     "text": [
      "这张图片显示的是一本笔记本上的笔记，内容主要涉及机器学习模型调优的技术，特别是在自然语言处理领域的应用。笔记内容具体如下：\n",
      "\n",
      "1. **Prompt Tuning（提示调优）** - 这是一种用于小型模型的技术，通过仅调整模型输入的一部分（称为“prompt”），达到提升模型性能的目的。笔记中写到X代表输入的Embedding向量，而Y则是通过权重矩阵W转换X后的输出。\n",
      "\n",
      "2. **Prefix Tuning（前缀调优）** - 这种方法涉及在模型的输入前添加一些固定的前缀，这些前缀经过训练可以改善模型的表现。这里的W'代表添加了前缀的新权重矩阵，该技术通常用于Transformer类模型的Encoder/Decoder结构。\n",
      "\n",
      "3. **LoRA（低秩适应）** - 这是另一种模型调优方法，通过修改模型中权重矩阵的子矩阵来实现参数的低秩更新，从而节省计算资源并保持模型表现。公式中的ΔW = AB表示权重的修改，其中A和B是较小的矩阵，提供了参数调整的自由度。\n",
      "\n",
      "笔记还提到了一些实现细节，例如Q LoRA和与LoRA相关的存储需求（如LAMA与Q LoRA的存储需求对比），这表明了LoRA方法在调优时对资源的节约。\n",
      "\n",
      "总的来说，这张图片的内容吸收了一些先进的技术和方法，用于提升自然语言处理模型在特定任务上的表现，同时注意到计算资源的优化配置。\n"
     ]
    }
   ],
   "source": [
    "content = query_base64_image_description(\"./images/handwriting_0.jpg\")\n",
    "print(content)"
   ]
  },
  {
   "cell_type": "markdown",
   "id": "ca046601-018c-455c-ace2-41392cbda456",
   "metadata": {},
   "source": [
    "#### 在 Jupyter 标准输出中渲染 Markdown 格式内容"
   ]
  },
  {
   "cell_type": "code",
   "execution_count": 17,
   "id": "516ee35b-1337-4b22-aea2-ee0adb706098",
   "metadata": {},
   "outputs": [
    {
     "data": {
      "text/markdown": [
       "这张图片显示的是一本笔记本上的笔记，内容主要涉及机器学习模型调优的技术，特别是在自然语言处理领域的应用。笔记内容具体如下：\n",
       "\n",
       "1. **Prompt Tuning（提示调优）** - 这是一种用于小型模型的技术，通过仅调整模型输入的一部分（称为“prompt”），达到提升模型性能的目的。笔记中写到X代表输入的Embedding向量，而Y则是通过权重矩阵W转换X后的输出。\n",
       "\n",
       "2. **Prefix Tuning（前缀调优）** - 这种方法涉及在模型的输入前添加一些固定的前缀，这些前缀经过训练可以改善模型的表现。这里的W'代表添加了前缀的新权重矩阵，该技术通常用于Transformer类模型的Encoder/Decoder结构。\n",
       "\n",
       "3. **LoRA（低秩适应）** - 这是另一种模型调优方法，通过修改模型中权重矩阵的子矩阵来实现参数的低秩更新，从而节省计算资源并保持模型表现。公式中的ΔW = AB表示权重的修改，其中A和B是较小的矩阵，提供了参数调整的自由度。\n",
       "\n",
       "笔记还提到了一些实现细节，例如Q LoRA和与LoRA相关的存储需求（如LAMA与Q LoRA的存储需求对比），这表明了LoRA方法在调优时对资源的节约。\n",
       "\n",
       "总的来说，这张图片的内容吸收了一些先进的技术和方法，用于提升自然语言处理模型在特定任务上的表现，同时注意到计算资源的优化配置。"
      ],
      "text/plain": [
       "<IPython.core.display.Markdown object>"
      ]
     },
     "metadata": {},
     "output_type": "display_data"
    }
   ],
   "source": [
    "from IPython.display import display, Markdown\n",
    "\n",
    "# 使用 display 和 Markdown 函数显示 Markdown 内容\n",
    "display(Markdown(content))"
   ]
  },
  {
   "cell_type": "markdown",
   "id": "b72ebbe3-87cc-4867-9cf0-62e5ed684482",
   "metadata": {},
   "source": [
    "![](./images/handwriting_1.jpg)"
   ]
  },
  {
   "cell_type": "code",
   "execution_count": 19,
   "id": "7c046958-aa7a-4066-88fa-4134869d9226",
   "metadata": {},
   "outputs": [
    {
     "data": {
      "text/markdown": [
       "这张图片显示的是一本笔记本的两页，上面记录了一些关于机器学习、特别是自然语言处理（NLP）和深度学习模型中的技术和方法的手写笔记。笔记中提及了多种技术和概念，主要聚焦在“Transformers”（变压器模型），这是一种广泛用于NLP领域的深度学习模型架构。\n",
       "\n",
       "左页内容：\n",
       "- 提到了“H/F Transformers”和“标签”，可能是在讨论不同类型的Transformers模型或是它们的用途。\n",
       "- 提到了benchmark（基准测试），以及一些优化Transformers模型的方法，如“PEFT”、“SOTA”（State Of The Art，最先进的技术）和“PBFT Methods”。\n",
       "- 进一步详细介绍了各种类型的tuning（调优）技术，如“Prompt Tuning”、“Adapter”、“Prefix”，“P-Tuning V1”和V2、“Soft Prompts”以及“Hand Prompts”。这些都是用于精细调整预训练模型以适应特定任务而不需重训练整个模型的技术。\n",
       "\n",
       "右页内容：\n",
       "- 更加专注于“multi-modality Instruction Ft. LLMS”和各种新的调整技术，如“LORA”，“LoRA”，“QLoRA”和“AdapLoRA”。\n",
       "- 深入探讨了“prefix-tuning & Adapters”的概念，并对其中的细节进行了一些批注或补充，例如如何通过改进的方法在大规模语言模型（LLMs）中实现更好的性能。\n",
       "- 讨论了如何通过插入、修改代表性结构以及使用比较函数等技术优化模型的能力。\n",
       "- 提到了“MAM Adapters”和对于提升模型性能的不同策略的讨论。\n",
       "\n",
       "总体而言，这些笔记可能是某个研究人员或学生在学习或工作中记录的，涉及NLP和深度学习领域中最新的研究进展和技术细节。"
      ],
      "text/plain": [
       "<IPython.core.display.Markdown object>"
      ]
     },
     "metadata": {},
     "output_type": "display_data"
    }
   ],
   "source": [
    "content = query_base64_image_description(\"./images/handwriting_1.jpg\")\n",
    "display(Markdown(content))"
   ]
  },
  {
   "cell_type": "code",
   "execution_count": null,
   "id": "156a0f17-cca8-4f01-9ce5-53384b5ffda4",
   "metadata": {},
   "outputs": [],
   "source": []
  },
  {
   "cell_type": "code",
   "execution_count": null,
   "id": "e3bd772f-9492-4f6c-b05a-666b772ca3c9",
   "metadata": {},
   "outputs": [],
   "source": []
  },
  {
   "cell_type": "code",
   "execution_count": null,
   "id": "8afdeacb-aac1-4692-be2b-fb7957ba5e8f",
   "metadata": {},
   "outputs": [],
   "source": []
  },
  {
   "cell_type": "markdown",
   "id": "79a8d459-d98e-4215-9fbf-38ad37080475",
   "metadata": {},
   "source": [
    "## Homework: \n",
    "\n",
    "\n",
    "### #1\n",
    "\n",
    "使用 GPT-4V 识别带有手写体文字的本地图像文件，分享结果。\n",
    "\n",
    "### #2\n",
    "\n",
    "整合 `query_base64_image_description` 函数和 Markdown 格式渲染方法，使得输出结果更易阅读。"
   ]
  },
  {
   "cell_type": "code",
   "execution_count": 22,
   "id": "0909bf27-9c4a-498c-9fae-0f442062b9a8",
   "metadata": {},
   "outputs": [
    {
     "data": {
      "text/markdown": [
       "图片中展示的是一份AI培训课程的书面作业，包括了以下几个任务：\n",
       "\n",
       "1. 翻译（translator）\n",
       "2. 销售机器人（sale-bot）\n",
       "3. 使用字符（use character）\n",
       "4. 历史中的人工智能（AI in history）\n",
       "5. 故事内容（story content）\n",
       "6. 网页设计（4 UV）\n",
       "7. 写下你的体会（markdown）\n",
       "\n",
       "目前作业完成情况为：\n",
       "\n",
       "- \"翻译\"任务已完成（打勾）\n",
       "- \"销售机器人\"任务已完成（打勾）\n",
       "- \"使用字符\"任务已完成（打勾）\n",
       "- \"历史中的人工智能\"任务已完成（打勾）\n",
       "\n",
       "剩余的任务还未完成。"
      ],
      "text/plain": [
       "<IPython.core.display.Markdown object>"
      ]
     },
     "metadata": {},
     "output_type": "display_data"
    }
   ],
   "source": [
    "from openai import OpenAI\n",
    "import base64\n",
    "import requests\n",
    "import json\n",
    "\n",
    "client = OpenAI()  # 初始化 OpenAI 客户端\n",
    "\n",
    "def query_base64_image_description(image_path, prompt=\"图里是AI培训课程的作业，描述下作业内容以及目前完成情况\", max_tokens=1000):\n",
    "\n",
    "    # 实现 Base64 编码\n",
    "    def encode_image(path):\n",
    "        with open(path, \"rb\") as image_file:\n",
    "            return base64.b64encode(image_file.read()).decode('utf-8')\n",
    "\n",
    "    # 获取图像的 Base64 编码字符串\n",
    "    base64_image = encode_image(image_path)\n",
    "\n",
    "    # 构造请求的 HTTP Header\n",
    "    headers = {\n",
    "        \"Content-Type\": \"application/json\",\n",
    "        \"Authorization\": f\"Bearer {client.api_key}\"\n",
    "    }\n",
    "\n",
    "    # 构造请求的负载\n",
    "    payload = {\n",
    "        \"model\": \"gpt-4-turbo\",\n",
    "        \"messages\": [\n",
    "            {\n",
    "                \"role\": \"user\",\n",
    "                \"content\": [\n",
    "                    {\"type\": \"text\", \"text\": prompt},\n",
    "                    {\"type\": \"image_url\", \"image_url\": {\"url\": f\"data:image/jpeg;base64,{base64_image}\"}}\n",
    "                ]\n",
    "            }\n",
    "        ],\n",
    "        \"max_tokens\": max_tokens\n",
    "    }\n",
    "\n",
    "    # 发送 HTTP 请求\n",
    "    response = requests.post(\"https://api.xiaoai.plus/v1/chat/completions\", headers=headers, json=payload)\n",
    "\n",
    "    # 检查响应并提取所需的 content 字段\n",
    "    if response.status_code == 200:\n",
    "        response_data = response.json()\n",
    "        content = response_data['choices'][0]['message']['content']\n",
    "        return content\n",
    "    else:\n",
    "        return f\"Error: {response.status_code}, {response.text}\"\n",
    "\n",
    "\n",
    "content = query_base64_image_description(\"./images/ming test.png\")\n",
    "display(Markdown(content))"
   ]
  }
 ],
 "metadata": {
  "kernelspec": {
   "display_name": "Python 3.10.14 ('langchain')",
   "language": "python",
   "name": "python3"
  },
  "language_info": {
   "codemirror_mode": {
    "name": "ipython",
    "version": 3
   },
   "file_extension": ".py",
   "mimetype": "text/x-python",
   "name": "python",
   "nbconvert_exporter": "python",
   "pygments_lexer": "ipython3",
   "version": "3.10.14"
  },
  "vscode": {
   "interpreter": {
    "hash": "d4b056f68f109bcbd23546b5d5853784ce13541d6716aac1df293849990ac2d3"
   }
  }
 },
 "nbformat": 4,
 "nbformat_minor": 5
}
